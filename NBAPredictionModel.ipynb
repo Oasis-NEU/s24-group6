{
 "cells": [
  {
   "cell_type": "code",
   "execution_count": 19,
   "id": "6e0e2099",
   "metadata": {},
   "outputs": [],
   "source": [
    "import pandas as pd\n",
    "import requests\n",
    "from bs4 import BeautifulSoup\n",
    "import re"
   ]
  },
  {
   "cell_type": "code",
   "execution_count": 2,
   "id": "9f802602",
   "metadata": {},
   "outputs": [
    {
     "ename": "NameError",
     "evalue": "name 'requests' is not defined",
     "output_type": "error",
     "traceback": [
      "\u001b[1;31m---------------------------------------------------------------------------\u001b[0m",
      "\u001b[1;31mNameError\u001b[0m                                 Traceback (most recent call last)",
      "\u001b[1;32mC:\\Users\\ARAVG_~1\\AppData\\Local\\Temp/ipykernel_19380/2840587793.py\u001b[0m in \u001b[0;36m<module>\u001b[1;34m\u001b[0m\n\u001b[0;32m     13\u001b[0m \u001b[1;33m\u001b[0m\u001b[0m\n\u001b[0;32m     14\u001b[0m \u001b[1;32mfor\u001b[0m \u001b[0murl\u001b[0m \u001b[1;32min\u001b[0m \u001b[0murls\u001b[0m\u001b[1;33m:\u001b[0m\u001b[1;33m\u001b[0m\u001b[1;33m\u001b[0m\u001b[0m\n\u001b[1;32m---> 15\u001b[1;33m     \u001b[0mres\u001b[0m\u001b[1;33m.\u001b[0m\u001b[0mappend\u001b[0m\u001b[1;33m(\u001b[0m\u001b[0mrequests\u001b[0m\u001b[1;33m.\u001b[0m\u001b[0mget\u001b[0m\u001b[1;33m(\u001b[0m\u001b[0murl\u001b[0m\u001b[1;33m)\u001b[0m\u001b[1;33m)\u001b[0m\u001b[1;33m\u001b[0m\u001b[1;33m\u001b[0m\u001b[0m\n\u001b[0m",
      "\u001b[1;31mNameError\u001b[0m: name 'requests' is not defined"
     ]
    }
   ],
   "source": [
    "# Webpages:\n",
    "# https://www.nba.com/stats/teams/traditional\n",
    "# https://www.nba.com/stats/teams/advanced\n",
    "# https://www.nba.com/stats/teams/traditional?LastNGames=10\n",
    "\n",
    "roots = [\"traditional\", \"advanced\", \"traditional?LastNGames=10\"]\n",
    "str = \"https://www.nba.com/stats/teams/{}\"\n",
    "urls = []\n",
    "res = []\n",
    "\n",
    "for root in roots:\n",
    "    urls.append(str.format(root))\n",
    "\n",
    "for url in urls:\n",
    "    res.append(requests.get(url))"
   ]
  },
  {
   "cell_type": "code",
   "execution_count": 45,
   "id": "2e18d6e6",
   "metadata": {},
   "outputs": [
    {
     "name": "stdout",
     "output_type": "stream",
     "text": [
      "None\n"
     ]
    }
   ],
   "source": [
    "# BeautifulSoup library parses the content of an HTML document, in this case wiz_res\n",
    "traditional_soup = BeautifulSoup(res[0].content, 'lxml')\n",
    "\n",
    "# BeautifulSoup's .find() method searches for a tag and specified attributes, \n",
    "# returning the first match \n",
    "traditional_table = traditional_soup.find(string=\"WIN%\")\n",
    "print(traditional_table)"
   ]
  },
  {
   "cell_type": "code",
   "execution_count": null,
   "id": "fc2ca1c3",
   "metadata": {},
   "outputs": [],
   "source": [
    "season_id = \"2023-24\"\n",
    "per_mode = \"PerGame\"\n",
    "last_n = \"0\""
   ]
  },
  {
   "cell_type": "code",
   "execution_count": null,
   "id": "38a659e0",
   "metadata": {},
   "outputs": [],
   "source": [
    "url = \"https://stats.nba.com/stats/leaguedashteamstats?Conference=&DateFrom=&DateTo=&Division=&GameScope=&GameSegment=&Height=&ISTRound=&LastNGames={last_n}&LeagueID=00&Location=&MeasureType=Base&Month=0&OpponentTeamID=0&Outcome=&PORound=0&PaceAdjust=N&PerMode={per_mode}&Period=0&PlayerExperience=&PlayerPosition=&PlusMinus=N&Rank=N&Season={season_id}&SeasonSegment=&SeasonType=Regular%20Season&ShotClockRange=&StarterBench=&TeamID=0&TwoWay=0&VsConference=&VsDivision=\""
   ]
  },
  {
   "cell_type": "code",
   "execution_count": null,
   "id": "e6b63599",
   "metadata": {},
   "outputs": [],
   "source": [
    "headers = {\n",
    "    \n",
    "}"
   ]
  }
 ],
 "metadata": {
  "kernelspec": {
   "display_name": "Python 3 (ipykernel)",
   "language": "python",
   "name": "python3"
  },
  "language_info": {
   "codemirror_mode": {
    "name": "ipython",
    "version": 3
   },
   "file_extension": ".py",
   "mimetype": "text/x-python",
   "name": "python",
   "nbconvert_exporter": "python",
   "pygments_lexer": "ipython3",
   "version": "3.9.7"
  }
 },
 "nbformat": 4,
 "nbformat_minor": 5
}
